{
 "cells": [
  {
   "cell_type": "markdown",
   "metadata": {
    "id": "Yt4_E-Y6is7u"
   },
   "source": [
    "# Подготовка окружения"
   ]
  },
  {
   "cell_type": "code",
   "execution_count": 38,
   "metadata": {
    "colab": {
     "base_uri": "https://localhost:8080/"
    },
    "id": "2L0yR8fWoPDe",
    "outputId": "1f26b239-a9d1-4962-a6ea-934922fc2f3a"
   },
   "outputs": [
    {
     "name": "stdout",
     "output_type": "stream",
     "text": [
      "Collecting bootstrapped\n",
      "  Downloading bootstrapped-0.0.2.tar.gz (11 kB)\n",
      "Requirement already satisfied: matplotlib>=1.5.3 in /usr/local/lib/python3.7/dist-packages (from bootstrapped) (3.2.2)\n",
      "Requirement already satisfied: numpy>=1.11.1 in /usr/local/lib/python3.7/dist-packages (from bootstrapped) (1.21.5)\n",
      "Requirement already satisfied: pandas>=0.18.1 in /usr/local/lib/python3.7/dist-packages (from bootstrapped) (1.3.5)\n",
      "Requirement already satisfied: cycler>=0.10 in /usr/local/lib/python3.7/dist-packages (from matplotlib>=1.5.3->bootstrapped) (0.11.0)\n",
      "Requirement already satisfied: pyparsing!=2.0.4,!=2.1.2,!=2.1.6,>=2.0.1 in /usr/local/lib/python3.7/dist-packages (from matplotlib>=1.5.3->bootstrapped) (3.0.7)\n",
      "Requirement already satisfied: kiwisolver>=1.0.1 in /usr/local/lib/python3.7/dist-packages (from matplotlib>=1.5.3->bootstrapped) (1.4.0)\n",
      "Requirement already satisfied: python-dateutil>=2.1 in /usr/local/lib/python3.7/dist-packages (from matplotlib>=1.5.3->bootstrapped) (2.8.2)\n",
      "Requirement already satisfied: typing-extensions in /usr/local/lib/python3.7/dist-packages (from kiwisolver>=1.0.1->matplotlib>=1.5.3->bootstrapped) (3.10.0.2)\n",
      "Requirement already satisfied: pytz>=2017.3 in /usr/local/lib/python3.7/dist-packages (from pandas>=0.18.1->bootstrapped) (2018.9)\n",
      "Requirement already satisfied: six>=1.5 in /usr/local/lib/python3.7/dist-packages (from python-dateutil>=2.1->matplotlib>=1.5.3->bootstrapped) (1.15.0)\n",
      "Building wheels for collected packages: bootstrapped\n",
      "  Building wheel for bootstrapped (setup.py) ... \u001b[?25l\u001b[?25hdone\n",
      "  Created wheel for bootstrapped: filename=bootstrapped-0.0.2-py2.py3-none-any.whl size=13954 sha256=26f158710c544d198ea171534d15e0ef4bb078ff80a7008c52feb34d8ef57f78\n",
      "  Stored in directory: /root/.cache/pip/wheels/15/55/6a/9a722f067ac4c3dfab359ed2ec7906b9cc6649156d9886bd59\n",
      "Successfully built bootstrapped\n",
      "Installing collected packages: bootstrapped\n",
      "Successfully installed bootstrapped-0.0.2\n"
     ]
    }
   ],
   "source": [
    "pip install bootstrapped"
   ]
  },
  {
   "cell_type": "code",
   "execution_count": 12,
   "metadata": {
    "colab": {
     "base_uri": "https://localhost:8080/"
    },
    "id": "YRGrVR6hmFOS",
    "outputId": "187513d4-92b1-4446-b757-785811ac8eb3"
   },
   "outputs": [],
   "source": [
    "#from google.colab import drive\n",
    "#drive.mount('/content/drive')\n",
    "import pandas as pd\n",
    "import numpy as np\n",
    "import seaborn as sns \n",
    "import matplotlib.pyplot as plt\n",
    "import statsmodels.stats.proportion as proportion\n",
    "from statsmodels.stats.proportion import proportions_ztest\n",
    "import statsmodels.stats.power as smp\n",
    "import bootstrapped.bootstrap as bs\n",
    "import bootstrapped.stats_functions as bs_stats\n",
    "import bootstrapped.compare_functions as bs_compare\n",
    "import numpy as np\n",
    "import warnings\n",
    "warnings.filterwarnings('ignore')"
   ]
  },
  {
   "cell_type": "markdown",
   "metadata": {
    "toc": true
   },
   "source": [
    "<h1>Оглавление<span class=\"tocSkip\"></span></h1>\n",
    "<div class=\"toc\"><ul class=\"toc-item\"><li><span><a href=\"#Подготовка-окружения\" data-toc-modified-id=\"Подготовка-окружения-1\"><span class=\"toc-item-num\">1&nbsp;&nbsp;</span>Подготовка окружения</a></span></li><li><span><a href=\"#Описание-задачи\" data-toc-modified-id=\"Описание-задачи-2\"><span class=\"toc-item-num\">2&nbsp;&nbsp;</span>Описание задачи</a></span><ul class=\"toc-item\"><li><span><a href=\"#Посмотрим-на-исторические-данные\" data-toc-modified-id=\"Посмотрим-на-исторические-данные-2.1\"><span class=\"toc-item-num\">2.1&nbsp;&nbsp;</span>Посмотрим на исторические данные</a></span></li><li><span><a href=\"#Исследовательская-часть.-Посмотрим-распределение-пользователей-по-группам-по-основным-сегментам\" data-toc-modified-id=\"Исследовательская-часть.-Посмотрим-распределение-пользователей-по-группам-по-основным-сегментам-2.2\"><span class=\"toc-item-num\">2.2&nbsp;&nbsp;</span>Исследовательская часть. Посмотрим распределение пользователей по группам по основным сегментам</a></span></li><li><span><a href=\"#Статистическая-проверка-гиппотез\" data-toc-modified-id=\"Статистическая-проверка-гиппотез-2.3\"><span class=\"toc-item-num\">2.3&nbsp;&nbsp;</span>Статистическая проверка гиппотез</a></span></li><li><span><a href=\"#Вычислим-мощность-теста\" data-toc-modified-id=\"Вычислим-мощность-теста-2.4\"><span class=\"toc-item-num\">2.4&nbsp;&nbsp;</span>Вычислим мощность теста</a></span></li><li><span><a href=\"#Оценим-влияние-теста-на-средний-чек\" data-toc-modified-id=\"Оценим-влияние-теста-на-средний-чек-2.5\"><span class=\"toc-item-num\">2.5&nbsp;&nbsp;</span>Оценим влияние теста на средний чек</a></span><ul class=\"toc-item\"><li><span><a href=\"#Подготовим-данные-для-расчета:\" data-toc-modified-id=\"Подготовим-данные-для-расчета:-2.5.1\"><span class=\"toc-item-num\">2.5.1&nbsp;&nbsp;</span>Подготовим данные для расчета:</a></span></li><li><span><a href=\"#Посчитаем-разницу:\" data-toc-modified-id=\"Посчитаем-разницу:-2.5.2\"><span class=\"toc-item-num\">2.5.2&nbsp;&nbsp;</span>Посчитаем разницу:</a></span></li><li><span><a href=\"#Границы-доверительного-интервала:\" data-toc-modified-id=\"Границы-доверительного-интервала:-2.5.3\"><span class=\"toc-item-num\">2.5.3&nbsp;&nbsp;</span>Границы доверительного интервала:</a></span></li><li><span><a href=\"#Построим-распределение-разниц-среднего-чека:\" data-toc-modified-id=\"Построим-распределение-разниц-среднего-чека:-2.5.4\"><span class=\"toc-item-num\">2.5.4&nbsp;&nbsp;</span>Построим распределение разниц среднего чека:</a></span></li></ul></li><li><span><a href=\"#Вывод\" data-toc-modified-id=\"Вывод-2.6\"><span class=\"toc-item-num\">2.6&nbsp;&nbsp;</span>Вывод</a></span></li></ul></li></ul></div>"
   ]
  },
  {
   "cell_type": "markdown",
   "metadata": {
    "id": "ztPv6Kb-ILDp"
   },
   "source": [
    "# Описание задачи\n",
    "\n",
    "\n",
    "\n",
    "*1. `Бизнес-проблема:`* мы считаем, что конверсии из визита в покупку в нашем магазине недостаточно высоки. Мы посмотрели на страницы конкурентов и поняли, что у нас есть возможность увеличить объем продаж, если мы еще немного изменим дизайн страницы с каталогом продукции. \n",
    "\n",
    "*2. `Гипотеза:`* предполагается, что добавление видео с процессом приготовления вкусностей мотивирует к их покупке и позволяет добиться двух эффектов:\n",
    "   * повышение конверсии из визита в оплату (больше людей захотят купить нашу продукцию)\n",
    "   * как минимум, не снижение среднего чека покупки, а в идеале — увеличение\n",
    "    \n",
    "*3. `Ожидаемые действия пользователей:`* мы ожидаем, что, увидев видео с процессом приготовления вкусностей вместе с описанием продукции, больше людей захотят сделать покупку, а возможно — в среднем будут покупать больше продукции в одном заказе.\n",
    "\n",
    "*4. `Эксперимент будет считаться успешным, если:`*\n",
    "   * конверсия из визита в покупку с окном в 7 дней повысится\n",
    "   * средний чек покупки не снизится"
   ]
  },
  {
   "cell_type": "markdown",
   "metadata": {
    "id": "hppSG_9JbL0s"
   },
   "source": [
    "## Посмотрим на исторические данные"
   ]
  },
  {
   "cell_type": "code",
   "execution_count": 2,
   "metadata": {
    "id": "Sk2xONPmbL0x"
   },
   "outputs": [],
   "source": [
    "historical_data = pd.read_csv('investigate_window.csv', parse_dates = [2,3] , index_col=0)  "
   ]
  },
  {
   "cell_type": "code",
   "execution_count": 3,
   "metadata": {
    "colab": {
     "base_uri": "https://localhost:8080/",
     "height": 206
    },
    "id": "dS3UJGDhbL0x",
    "outputId": "defd9cbf-3d59-48b3-e01d-8a63c7c2e609"
   },
   "outputs": [
    {
     "data": {
      "text/html": [
       "<div>\n",
       "<style scoped>\n",
       "    .dataframe tbody tr th:only-of-type {\n",
       "        vertical-align: middle;\n",
       "    }\n",
       "\n",
       "    .dataframe tbody tr th {\n",
       "        vertical-align: top;\n",
       "    }\n",
       "\n",
       "    .dataframe thead th {\n",
       "        text-align: right;\n",
       "    }\n",
       "</style>\n",
       "<table border=\"1\" class=\"dataframe\">\n",
       "  <thead>\n",
       "    <tr style=\"text-align: right;\">\n",
       "      <th></th>\n",
       "      <th>user_id</th>\n",
       "      <th>main_page_viewed_at</th>\n",
       "      <th>order_completed_at</th>\n",
       "      <th>time_to_order</th>\n",
       "    </tr>\n",
       "  </thead>\n",
       "  <tbody>\n",
       "    <tr>\n",
       "      <th>0</th>\n",
       "      <td>959238</td>\n",
       "      <td>2020-11-20 23:55:02.759000+00:00</td>\n",
       "      <td>2020-11-30 02:22:32.759000+00:00</td>\n",
       "      <td>9.102431</td>\n",
       "    </tr>\n",
       "    <tr>\n",
       "      <th>1</th>\n",
       "      <td>337366</td>\n",
       "      <td>2020-12-05 23:41:42.244000+00:00</td>\n",
       "      <td>2020-12-12 22:25:52.244000+00:00</td>\n",
       "      <td>6.947338</td>\n",
       "    </tr>\n",
       "    <tr>\n",
       "      <th>2</th>\n",
       "      <td>259956</td>\n",
       "      <td>2020-11-20 23:33:53.269000+00:00</td>\n",
       "      <td>2020-11-25 13:08:03.269000+00:00</td>\n",
       "      <td>4.565394</td>\n",
       "    </tr>\n",
       "    <tr>\n",
       "      <th>3</th>\n",
       "      <td>534280</td>\n",
       "      <td>2020-11-28 23:44:56.556000+00:00</td>\n",
       "      <td>2020-12-05 10:14:06.556000+00:00</td>\n",
       "      <td>6.436921</td>\n",
       "    </tr>\n",
       "    <tr>\n",
       "      <th>4</th>\n",
       "      <td>795121</td>\n",
       "      <td>2020-11-18 23:59:56.236000+00:00</td>\n",
       "      <td>2020-11-27 02:38:16.236000+00:00</td>\n",
       "      <td>8.109954</td>\n",
       "    </tr>\n",
       "  </tbody>\n",
       "</table>\n",
       "</div>"
      ],
      "text/plain": [
       "   user_id              main_page_viewed_at               order_completed_at  \\\n",
       "0   959238 2020-11-20 23:55:02.759000+00:00 2020-11-30 02:22:32.759000+00:00   \n",
       "1   337366 2020-12-05 23:41:42.244000+00:00 2020-12-12 22:25:52.244000+00:00   \n",
       "2   259956 2020-11-20 23:33:53.269000+00:00 2020-11-25 13:08:03.269000+00:00   \n",
       "3   534280 2020-11-28 23:44:56.556000+00:00 2020-12-05 10:14:06.556000+00:00   \n",
       "4   795121 2020-11-18 23:59:56.236000+00:00 2020-11-27 02:38:16.236000+00:00   \n",
       "\n",
       "   time_to_order  \n",
       "0       9.102431  \n",
       "1       6.947338  \n",
       "2       4.565394  \n",
       "3       6.436921  \n",
       "4       8.109954  "
      ]
     },
     "execution_count": 3,
     "metadata": {},
     "output_type": "execute_result"
    }
   ],
   "source": [
    "historical_data.head()"
   ]
  },
  {
   "cell_type": "markdown",
   "metadata": {
    "id": "olR8gTUvbL00"
   },
   "source": [
    "**Посмотрим 95, 90 и 85 перцентили для наших данных с помощью колонки time_to_order.**"
   ]
  },
  {
   "cell_type": "code",
   "execution_count": 4,
   "metadata": {
    "colab": {
     "base_uri": "https://localhost:8080/"
    },
    "id": "5uiFILNtbL01",
    "outputId": "96dd166f-b2e9-49ba-d4cb-f7ba9aa32041"
   },
   "outputs": [
    {
     "data": {
      "text/plain": [
       "7.1"
      ]
     },
     "execution_count": 4,
     "metadata": {},
     "output_type": "execute_result"
    }
   ],
   "source": [
    "np.percentile(historical_data['time_to_order'], [85, 90, 95])\n",
    "#7-ми дневное окно:\n",
    "perc95=round(np.percentile(historical_data['time_to_order'], [85, 90, 95])[2], 1)\n",
    "perc95"
   ]
  },
  {
   "cell_type": "markdown",
   "metadata": {
    "id": "SRawyRWsbL02"
   },
   "source": [
    "**Посмотрим гистограмму распределения времени между первым заходом на сайт и покупкой.** "
   ]
  },
  {
   "cell_type": "code",
   "execution_count": 13,
   "metadata": {
    "colab": {
     "base_uri": "https://localhost:8080/",
     "height": 494
    },
    "id": "UMNd1kw3bL03",
    "outputId": "fdfa493d-e933-40c2-e838-b0828e323614"
   },
   "outputs": [
    {
     "data": {
      "text/plain": [
       "<Figure size 864x432 with 0 Axes>"
      ]
     },
     "execution_count": 13,
     "metadata": {},
     "output_type": "execute_result"
    },
    {
     "data": {
      "image/png": "[encoded data removed]",
      "text/plain": [
       "<Figure size 432x288 with 1 Axes>"
      ]
     },
     "metadata": {
      "needs_background": "light"
     },
     "output_type": "display_data"
    },
    {
     "data": {
      "text/plain": [
       "<Figure size 864x432 with 0 Axes>"
      ]
     },
     "metadata": {},
     "output_type": "display_data"
    }
   ],
   "source": [
    "fig, ax = plt.subplots() \n",
    "ax.set_title('Распределение времени м-ду заходом и покупкой')\n",
    "ax=sns.distplot(historical_data['time_to_order'])\n",
    "plt.vlines(perc95, ymin = 0, ymax = 1, linestyles = 'dashed', label = f'95-ый перцентиль – {perc95} дней')\n",
    "plt.legend()\n",
    "plt.figure(figsize=(12,6))\n"
   ]
  },
  {
   "cell_type": "markdown",
   "metadata": {
    "id": "3nsIxdYObL03"
   },
   "source": [
    "## Исследовательская часть. Посмотрим распределение пользователей по группам по основным сегментам "
   ]
  },
  {
   "cell_type": "code",
   "execution_count": 6,
   "metadata": {
    "colab": {
     "base_uri": "https://localhost:8080/",
     "height": 424
    },
    "id": "-l6Y90j6bL03",
    "outputId": "1bd51a5b-34a0-4dc8-a798-ddd08303f41d"
   },
   "outputs": [
    {
     "data": {
      "text/html": [
       "<div>\n",
       "<style scoped>\n",
       "    .dataframe tbody tr th:only-of-type {\n",
       "        vertical-align: middle;\n",
       "    }\n",
       "\n",
       "    .dataframe tbody tr th {\n",
       "        vertical-align: top;\n",
       "    }\n",
       "\n",
       "    .dataframe thead th {\n",
       "        text-align: right;\n",
       "    }\n",
       "</style>\n",
       "<table border=\"1\" class=\"dataframe\">\n",
       "  <thead>\n",
       "    <tr style=\"text-align: right;\">\n",
       "      <th></th>\n",
       "      <th>user_id</th>\n",
       "      <th>test_group</th>\n",
       "      <th>purchase_amount</th>\n",
       "      <th>geo_group</th>\n",
       "      <th>acquisition_channel</th>\n",
       "      <th>within_window</th>\n",
       "      <th>platform</th>\n",
       "    </tr>\n",
       "  </thead>\n",
       "  <tbody>\n",
       "    <tr>\n",
       "      <th>1</th>\n",
       "      <td>3738</td>\n",
       "      <td>test</td>\n",
       "      <td>306.639511</td>\n",
       "      <td>regions</td>\n",
       "      <td>target_direct</td>\n",
       "      <td>1</td>\n",
       "      <td>pc</td>\n",
       "    </tr>\n",
       "    <tr>\n",
       "      <th>2</th>\n",
       "      <td>3755</td>\n",
       "      <td>control</td>\n",
       "      <td>NaN</td>\n",
       "      <td>regions</td>\n",
       "      <td>target_direct</td>\n",
       "      <td>0</td>\n",
       "      <td>pc</td>\n",
       "    </tr>\n",
       "    <tr>\n",
       "      <th>3</th>\n",
       "      <td>3772</td>\n",
       "      <td>test</td>\n",
       "      <td>NaN</td>\n",
       "      <td>regions</td>\n",
       "      <td>context_brand</td>\n",
       "      <td>0</td>\n",
       "      <td>mobile</td>\n",
       "    </tr>\n",
       "    <tr>\n",
       "      <th>4</th>\n",
       "      <td>3789</td>\n",
       "      <td>control</td>\n",
       "      <td>NaN</td>\n",
       "      <td>spb</td>\n",
       "      <td>target_direct</td>\n",
       "      <td>0</td>\n",
       "      <td>pc</td>\n",
       "    </tr>\n",
       "    <tr>\n",
       "      <th>5</th>\n",
       "      <td>3806</td>\n",
       "      <td>test</td>\n",
       "      <td>NaN</td>\n",
       "      <td>regions</td>\n",
       "      <td>social_media</td>\n",
       "      <td>0</td>\n",
       "      <td>pc</td>\n",
       "    </tr>\n",
       "    <tr>\n",
       "      <th>...</th>\n",
       "      <td>...</td>\n",
       "      <td>...</td>\n",
       "      <td>...</td>\n",
       "      <td>...</td>\n",
       "      <td>...</td>\n",
       "      <td>...</td>\n",
       "      <td>...</td>\n",
       "    </tr>\n",
       "    <tr>\n",
       "      <th>152995</th>\n",
       "      <td>2604636</td>\n",
       "      <td>test</td>\n",
       "      <td>NaN</td>\n",
       "      <td>regions</td>\n",
       "      <td>target_direct</td>\n",
       "      <td>0</td>\n",
       "      <td>pc</td>\n",
       "    </tr>\n",
       "    <tr>\n",
       "      <th>152996</th>\n",
       "      <td>2604653</td>\n",
       "      <td>control</td>\n",
       "      <td>5236.818309</td>\n",
       "      <td>regions</td>\n",
       "      <td>organic</td>\n",
       "      <td>1</td>\n",
       "      <td>mobile</td>\n",
       "    </tr>\n",
       "    <tr>\n",
       "      <th>152997</th>\n",
       "      <td>2604670</td>\n",
       "      <td>control</td>\n",
       "      <td>NaN</td>\n",
       "      <td>regions</td>\n",
       "      <td>target_direct</td>\n",
       "      <td>0</td>\n",
       "      <td>pc</td>\n",
       "    </tr>\n",
       "    <tr>\n",
       "      <th>152998</th>\n",
       "      <td>2604687</td>\n",
       "      <td>control</td>\n",
       "      <td>101.783032</td>\n",
       "      <td>regions</td>\n",
       "      <td>target_direct</td>\n",
       "      <td>1</td>\n",
       "      <td>pc</td>\n",
       "    </tr>\n",
       "    <tr>\n",
       "      <th>152999</th>\n",
       "      <td>2604704</td>\n",
       "      <td>test</td>\n",
       "      <td>NaN</td>\n",
       "      <td>msk</td>\n",
       "      <td>social_media</td>\n",
       "      <td>0</td>\n",
       "      <td>pc</td>\n",
       "    </tr>\n",
       "  </tbody>\n",
       "</table>\n",
       "<p>150483 rows × 7 columns</p>\n",
       "</div>"
      ],
      "text/plain": [
       "        user_id test_group  purchase_amount geo_group acquisition_channel  \\\n",
       "1          3738       test       306.639511   regions       target_direct   \n",
       "2          3755    control              NaN   regions       target_direct   \n",
       "3          3772       test              NaN   regions       context_brand   \n",
       "4          3789    control              NaN       spb       target_direct   \n",
       "5          3806       test              NaN   regions        social_media   \n",
       "...         ...        ...              ...       ...                 ...   \n",
       "152995  2604636       test              NaN   regions       target_direct   \n",
       "152996  2604653    control      5236.818309   regions             organic   \n",
       "152997  2604670    control              NaN   regions       target_direct   \n",
       "152998  2604687    control       101.783032   regions       target_direct   \n",
       "152999  2604704       test              NaN       msk        social_media   \n",
       "\n",
       "        within_window platform  \n",
       "1                   1       pc  \n",
       "2                   0       pc  \n",
       "3                   0   mobile  \n",
       "4                   0       pc  \n",
       "5                   0       pc  \n",
       "...               ...      ...  \n",
       "152995              0       pc  \n",
       "152996              1   mobile  \n",
       "152997              0       pc  \n",
       "152998              1       pc  \n",
       "152999              0       pc  \n",
       "\n",
       "[150483 rows x 7 columns]"
      ]
     },
     "execution_count": 6,
     "metadata": {},
     "output_type": "execute_result"
    }
   ],
   "source": [
    "# Возьмем уже обрезанный фрейм с 7 дневным окном\n",
    "data=pd.read_csv('bakery_ab_test.csv', index_col=0)\n",
    "data"
   ]
  },
  {
   "cell_type": "code",
   "execution_count": 14,
   "metadata": {
    "colab": {
     "base_uri": "https://localhost:8080/",
     "height": 494
    },
    "id": "pKNjY7_976lp",
    "outputId": "1e142e80-0626-4947-e1b6-985aba1d43b3"
   },
   "outputs": [
    {
     "data": {
      "text/plain": [
       "<Figure size 864x432 with 0 Axes>"
      ]
     },
     "execution_count": 14,
     "metadata": {},
     "output_type": "execute_result"
    },
    {
     "data": {
      "image/png": "[encoded data removed]",
      "text/plain": [
       "<Figure size 432x288 with 1 Axes>"
      ]
     },
     "metadata": {
      "needs_background": "light"
     },
     "output_type": "display_data"
    },
    {
     "data": {
      "text/plain": [
       "<Figure size 864x432 with 0 Axes>"
      ]
     },
     "metadata": {},
     "output_type": "display_data"
    }
   ],
   "source": [
    "fig, ax = plt.subplots() \n",
    "ax.set_title('Распределение среднего чека')\n",
    "ax=sns.distplot(data['purchase_amount'])\n",
    "plt.figure(figsize=(12,6))\n"
   ]
  },
  {
   "cell_type": "markdown",
   "metadata": {
    "id": "SgbP7ZdIHjH1"
   },
   "source": [
    "***Распределение у нас не нормальное, учтем этот момент в дальнейшем ***\n"
   ]
  },
  {
   "cell_type": "code",
   "execution_count": 13,
   "metadata": {
    "id": "chknOr6Ll6ju"
   },
   "outputs": [],
   "source": [
    "data['purchase_amount'] = data['purchase_amount'].astype('float32')"
   ]
  },
  {
   "cell_type": "markdown",
   "metadata": {
    "id": "BySl6id7bL04"
   },
   "source": [
    "**Построим распределение по группам и сегментам.**\n"
   ]
  },
  {
   "cell_type": "code",
   "execution_count": 99,
   "metadata": {
    "id": "S_yYf2Ryl6jv"
   },
   "outputs": [],
   "source": [
    "def plot_segments_distribution(df, segment_columns, test_factor):\n",
    "    \n",
    "    for segment in segment_columns:\n",
    "        aggregated_data = df.groupby(by = [test_factor, segment])['user_id'].count().reset_index()\n",
    "        sns.catplot(x = segment, \n",
    "                    y = 'user_id', \n",
    "                    hue = test_factor, # сообщаем, что хотим, чтобы разные группы имели разный цвет\n",
    "                    data = aggregated_data, \n",
    "                    kind = \"bar\", \n",
    "                    height = 4,\n",
    "                    aspect = 1.5,\n",
    "                    palette='crest') # задаем размер графика "
   ]
  },
  {
   "cell_type": "code",
   "execution_count": 100,
   "metadata": {
    "colab": {
     "base_uri": "https://localhost:8080/",
     "height": 857
    },
    "id": "nPxZombll6jw",
    "outputId": "3dc0f3b4-bf37-4065-d8d4-824e36f4c210"
   },
   "outputs": [
    {
     "data": {
      "image/png": "[encoded data removed]",
      "text/plain": [
       "<Figure size 502.5x288 with 1 Axes>"
      ]
     },
     "metadata": {
      "needs_background": "light"
     },
     "output_type": "display_data"
    },
    {
     "data": {
      "image/png": "[encoded data removed]",
      "text/plain": [
       "<Figure size 502.5x288 with 1 Axes>"
      ]
     },
     "metadata": {
      "needs_background": "light"
     },
     "output_type": "display_data"
    },
    {
     "data": {
      "image/png": "[encoded data removed]",
      "text/plain": [
       "<Figure size 502.5x288 with 1 Axes>"
      ]
     },
     "metadata": {
      "needs_background": "light"
     },
     "output_type": "display_data"
    }
   ],
   "source": [
    "plot_segments_distribution(data,['geo_group', 'acquisition_channel', 'platform'], 'test_group')"
   ]
  },
  {
   "cell_type": "code",
   "execution_count": 17,
   "metadata": {
    "colab": {
     "base_uri": "https://localhost:8080/",
     "height": 175
    },
    "id": "QO7ZF5yrl6jx",
    "outputId": "ba95ffb5-3b02-4594-9fe6-714756bd734c"
   },
   "outputs": [
    {
     "data": {
      "text/html": [
       "\n",
       "  <div id=\"df-f29d2109-da17-4fc1-82b2-2d87c3db0b77\">\n",
       "    <div class=\"colab-df-container\">\n",
       "      <div>\n",
       "<style scoped>\n",
       "    .dataframe tbody tr th:only-of-type {\n",
       "        vertical-align: middle;\n",
       "    }\n",
       "\n",
       "    .dataframe tbody tr th {\n",
       "        vertical-align: top;\n",
       "    }\n",
       "\n",
       "    .dataframe thead th {\n",
       "        text-align: right;\n",
       "    }\n",
       "</style>\n",
       "<table border=\"1\" class=\"dataframe\">\n",
       "  <thead>\n",
       "    <tr style=\"text-align: right;\">\n",
       "      <th></th>\n",
       "      <th>platform</th>\n",
       "      <th>test_group</th>\n",
       "      <th>user_id</th>\n",
       "      <th>within_window</th>\n",
       "      <th>purchase_amount</th>\n",
       "      <th>conversion</th>\n",
       "    </tr>\n",
       "  </thead>\n",
       "  <tbody>\n",
       "    <tr>\n",
       "      <th>0</th>\n",
       "      <td>mobile</td>\n",
       "      <td>control</td>\n",
       "      <td>30098</td>\n",
       "      <td>9266</td>\n",
       "      <td>5127.505371</td>\n",
       "      <td>0.308</td>\n",
       "    </tr>\n",
       "    <tr>\n",
       "      <th>1</th>\n",
       "      <td>mobile</td>\n",
       "      <td>test</td>\n",
       "      <td>14956</td>\n",
       "      <td>4768</td>\n",
       "      <td>5369.075684</td>\n",
       "      <td>0.319</td>\n",
       "    </tr>\n",
       "    <tr>\n",
       "      <th>2</th>\n",
       "      <td>pc</td>\n",
       "      <td>control</td>\n",
       "      <td>45112</td>\n",
       "      <td>13732</td>\n",
       "      <td>5200.121582</td>\n",
       "      <td>0.304</td>\n",
       "    </tr>\n",
       "    <tr>\n",
       "      <th>3</th>\n",
       "      <td>pc</td>\n",
       "      <td>test</td>\n",
       "      <td>60317</td>\n",
       "      <td>19659</td>\n",
       "      <td>5401.003906</td>\n",
       "      <td>0.326</td>\n",
       "    </tr>\n",
       "  </tbody>\n",
       "</table>\n",
       "</div>\n",
       "      <button class=\"colab-df-convert\" onclick=\"convertToInteractive('df-f29d2109-da17-4fc1-82b2-2d87c3db0b77')\"\n",
       "              title=\"Convert this dataframe to an interactive table.\"\n",
       "              style=\"display:none;\">\n",
       "        \n",
       "  <svg xmlns=\"http://www.w3.org/2000/svg\" height=\"24px\"viewBox=\"0 0 24 24\"\n",
       "       width=\"24px\">\n",
       "    <path d=\"M0 0h24v24H0V0z\" fill=\"none\"/>\n",
       "    <path d=\"M18.56 5.44l.94 2.06.94-2.06 2.06-.94-2.06-.94-.94-2.06-.94 2.06-2.06.94zm-11 1L8.5 8.5l.94-2.06 2.06-.94-2.06-.94L8.5 2.5l-.94 2.06-2.06.94zm10 10l.94 2.06.94-2.06 2.06-.94-2.06-.94-.94-2.06-.94 2.06-2.06.94z\"/><path d=\"M17.41 7.96l-1.37-1.37c-.4-.4-.92-.59-1.43-.59-.52 0-1.04.2-1.43.59L10.3 9.45l-7.72 7.72c-.78.78-.78 2.05 0 2.83L4 21.41c.39.39.9.59 1.41.59.51 0 1.02-.2 1.41-.59l7.78-7.78 2.81-2.81c.8-.78.8-2.07 0-2.86zM5.41 20L4 18.59l7.72-7.72 1.47 1.35L5.41 20z\"/>\n",
       "  </svg>\n",
       "      </button>\n",
       "      \n",
       "  <style>\n",
       "    .colab-df-container {\n",
       "      display:flex;\n",
       "      flex-wrap:wrap;\n",
       "      gap: 12px;\n",
       "    }\n",
       "\n",
       "    .colab-df-convert {\n",
       "      background-color: #E8F0FE;\n",
       "      border: none;\n",
       "      border-radius: 50%;\n",
       "      cursor: pointer;\n",
       "      display: none;\n",
       "      fill: #1967D2;\n",
       "      height: 32px;\n",
       "      padding: 0 0 0 0;\n",
       "      width: 32px;\n",
       "    }\n",
       "\n",
       "    .colab-df-convert:hover {\n",
       "      background-color: #E2EBFA;\n",
       "      box-shadow: 0px 1px 2px rgba(60, 64, 67, 0.3), 0px 1px 3px 1px rgba(60, 64, 67, 0.15);\n",
       "      fill: #174EA6;\n",
       "    }\n",
       "\n",
       "    [theme=dark] .colab-df-convert {\n",
       "      background-color: #3B4455;\n",
       "      fill: #D2E3FC;\n",
       "    }\n",
       "\n",
       "    [theme=dark] .colab-df-convert:hover {\n",
       "      background-color: #434B5C;\n",
       "      box-shadow: 0px 1px 3px 1px rgba(0, 0, 0, 0.15);\n",
       "      filter: drop-shadow(0px 1px 2px rgba(0, 0, 0, 0.3));\n",
       "      fill: #FFFFFF;\n",
       "    }\n",
       "  </style>\n",
       "\n",
       "      <script>\n",
       "        const buttonEl =\n",
       "          document.querySelector('#df-f29d2109-da17-4fc1-82b2-2d87c3db0b77 button.colab-df-convert');\n",
       "        buttonEl.style.display =\n",
       "          google.colab.kernel.accessAllowed ? 'block' : 'none';\n",
       "\n",
       "        async function convertToInteractive(key) {\n",
       "          const element = document.querySelector('#df-f29d2109-da17-4fc1-82b2-2d87c3db0b77');\n",
       "          const dataTable =\n",
       "            await google.colab.kernel.invokeFunction('convertToInteractive',\n",
       "                                                     [key], {});\n",
       "          if (!dataTable) return;\n",
       "\n",
       "          const docLinkHtml = 'Like what you see? Visit the ' +\n",
       "            '<a target=\"_blank\" href=https://colab.research.google.com/notebooks/data_table.ipynb>data table notebook</a>'\n",
       "            + ' to learn more about interactive tables.';\n",
       "          element.innerHTML = '';\n",
       "          dataTable['output_type'] = 'display_data';\n",
       "          await google.colab.output.renderOutput(dataTable, element);\n",
       "          const docLink = document.createElement('div');\n",
       "          docLink.innerHTML = docLinkHtml;\n",
       "          element.appendChild(docLink);\n",
       "        }\n",
       "      </script>\n",
       "    </div>\n",
       "  </div>\n",
       "  "
      ],
      "text/plain": [
       "  platform test_group  user_id  within_window  purchase_amount  conversion\n",
       "0   mobile    control    30098           9266      5127.505371       0.308\n",
       "1   mobile       test    14956           4768      5369.075684       0.319\n",
       "2       pc    control    45112          13732      5200.121582       0.304\n",
       "3       pc       test    60317          19659      5401.003906       0.326"
      ]
     },
     "execution_count": 17,
     "metadata": {},
     "output_type": "execute_result"
    }
   ],
   "source": [
    "#Посчитаем значимые метрики\n",
    "metrics=data.groupby(['platform','test_group'], as_index= False).agg({'user_id':'nunique', 'within_window':'sum', 'purchase_amount':'mean'})\n",
    "metrics['conversion']=round(metrics['within_window']/metrics['user_id'],3)\n",
    "metrics"
   ]
  },
  {
   "cell_type": "markdown",
   "metadata": {
    "id": "_miaIvPmbL05"
   },
   "source": [
    "***Есть различие в распределении по платформам и группам теста по кол-ву пользователей.***\n",
    "\n",
    "**Есть разница в конверсиях и среднем чеке в положительную сторону, но не кажется большой на первый взгляд, вглянем подробнее ***\n"
   ]
  },
  {
   "cell_type": "markdown",
   "metadata": {
    "id": "8jAA6GdHbL05"
   },
   "source": [
    "## Статистическая проверка гиппотез"
   ]
  },
  {
   "cell_type": "markdown",
   "metadata": {
    "id": "ixJWxL_JbL06"
   },
   "source": [
    "Мы не можем исправить данные, но можем проанализировать общие результаты и сравнить их с результатами для пользователей, зашедших с разных платформ, чтобы уменьшить риск принятия ошибочного решения. Поэтому дальше мы будем анализировать параллельно 3 теста:\n",
    "\n",
    "1. Все пользователи, попавшие в тест\n",
    "2. Пользователи, заходившие с ПК `platform = 'pc'`\n",
    "3. Пользователи, заходившие с мобильного `platform = 'mobile'`"
   ]
  },
  {
   "cell_type": "markdown",
   "metadata": {
    "id": "vZ3xI1JVl6j0"
   },
   "source": [
    "**H0- Различий в конверсии нет**\n",
    "\n",
    "**H1- Различия в конверсии есть**"
   ]
  },
  {
   "cell_type": "markdown",
   "metadata": {
    "id": "9IFKR-IBLAum"
   },
   "source": [
    "###Подготовим данные для проверки:"
   ]
  },
  {
   "cell_type": "code",
   "execution_count": 18,
   "metadata": {
    "colab": {
     "base_uri": "https://localhost:8080/",
     "height": 112
    },
    "id": "yicAUBtnbL07",
    "outputId": "68b3a1c5-0da2-4fdd-e2c2-0897fe13fe6b"
   },
   "outputs": [
    {
     "data": {
      "text/html": [
       "\n",
       "  <div id=\"df-2549ed48-b0a2-49ea-ada0-8006e02d602e\">\n",
       "    <div class=\"colab-df-container\">\n",
       "      <div>\n",
       "<style scoped>\n",
       "    .dataframe tbody tr th:only-of-type {\n",
       "        vertical-align: middle;\n",
       "    }\n",
       "\n",
       "    .dataframe tbody tr th {\n",
       "        vertical-align: top;\n",
       "    }\n",
       "\n",
       "    .dataframe thead th {\n",
       "        text-align: right;\n",
       "    }\n",
       "</style>\n",
       "<table border=\"1\" class=\"dataframe\">\n",
       "  <thead>\n",
       "    <tr style=\"text-align: right;\">\n",
       "      <th></th>\n",
       "      <th>test_group</th>\n",
       "      <th>user_id</th>\n",
       "      <th>within_window</th>\n",
       "      <th>purchase_amount</th>\n",
       "      <th>conversion</th>\n",
       "    </tr>\n",
       "  </thead>\n",
       "  <tbody>\n",
       "    <tr>\n",
       "      <th>0</th>\n",
       "      <td>control</td>\n",
       "      <td>75210</td>\n",
       "      <td>22998</td>\n",
       "      <td>5170.864258</td>\n",
       "      <td>0.306</td>\n",
       "    </tr>\n",
       "    <tr>\n",
       "      <th>1</th>\n",
       "      <td>test</td>\n",
       "      <td>75273</td>\n",
       "      <td>24427</td>\n",
       "      <td>5394.771484</td>\n",
       "      <td>0.325</td>\n",
       "    </tr>\n",
       "  </tbody>\n",
       "</table>\n",
       "</div>\n",
       "      <button class=\"colab-df-convert\" onclick=\"convertToInteractive('df-2549ed48-b0a2-49ea-ada0-8006e02d602e')\"\n",
       "              title=\"Convert this dataframe to an interactive table.\"\n",
       "              style=\"display:none;\">\n",
       "        \n",
       "  <svg xmlns=\"http://www.w3.org/2000/svg\" height=\"24px\"viewBox=\"0 0 24 24\"\n",
       "       width=\"24px\">\n",
       "    <path d=\"M0 0h24v24H0V0z\" fill=\"none\"/>\n",
       "    <path d=\"M18.56 5.44l.94 2.06.94-2.06 2.06-.94-2.06-.94-.94-2.06-.94 2.06-2.06.94zm-11 1L8.5 8.5l.94-2.06 2.06-.94-2.06-.94L8.5 2.5l-.94 2.06-2.06.94zm10 10l.94 2.06.94-2.06 2.06-.94-2.06-.94-.94-2.06-.94 2.06-2.06.94z\"/><path d=\"M17.41 7.96l-1.37-1.37c-.4-.4-.92-.59-1.43-.59-.52 0-1.04.2-1.43.59L10.3 9.45l-7.72 7.72c-.78.78-.78 2.05 0 2.83L4 21.41c.39.39.9.59 1.41.59.51 0 1.02-.2 1.41-.59l7.78-7.78 2.81-2.81c.8-.78.8-2.07 0-2.86zM5.41 20L4 18.59l7.72-7.72 1.47 1.35L5.41 20z\"/>\n",
       "  </svg>\n",
       "      </button>\n",
       "      \n",
       "  <style>\n",
       "    .colab-df-container {\n",
       "      display:flex;\n",
       "      flex-wrap:wrap;\n",
       "      gap: 12px;\n",
       "    }\n",
       "\n",
       "    .colab-df-convert {\n",
       "      background-color: #E8F0FE;\n",
       "      border: none;\n",
       "      border-radius: 50%;\n",
       "      cursor: pointer;\n",
       "      display: none;\n",
       "      fill: #1967D2;\n",
       "      height: 32px;\n",
       "      padding: 0 0 0 0;\n",
       "      width: 32px;\n",
       "    }\n",
       "\n",
       "    .colab-df-convert:hover {\n",
       "      background-color: #E2EBFA;\n",
       "      box-shadow: 0px 1px 2px rgba(60, 64, 67, 0.3), 0px 1px 3px 1px rgba(60, 64, 67, 0.15);\n",
       "      fill: #174EA6;\n",
       "    }\n",
       "\n",
       "    [theme=dark] .colab-df-convert {\n",
       "      background-color: #3B4455;\n",
       "      fill: #D2E3FC;\n",
       "    }\n",
       "\n",
       "    [theme=dark] .colab-df-convert:hover {\n",
       "      background-color: #434B5C;\n",
       "      box-shadow: 0px 1px 3px 1px rgba(0, 0, 0, 0.15);\n",
       "      filter: drop-shadow(0px 1px 2px rgba(0, 0, 0, 0.3));\n",
       "      fill: #FFFFFF;\n",
       "    }\n",
       "  </style>\n",
       "\n",
       "      <script>\n",
       "        const buttonEl =\n",
       "          document.querySelector('#df-2549ed48-b0a2-49ea-ada0-8006e02d602e button.colab-df-convert');\n",
       "        buttonEl.style.display =\n",
       "          google.colab.kernel.accessAllowed ? 'block' : 'none';\n",
       "\n",
       "        async function convertToInteractive(key) {\n",
       "          const element = document.querySelector('#df-2549ed48-b0a2-49ea-ada0-8006e02d602e');\n",
       "          const dataTable =\n",
       "            await google.colab.kernel.invokeFunction('convertToInteractive',\n",
       "                                                     [key], {});\n",
       "          if (!dataTable) return;\n",
       "\n",
       "          const docLinkHtml = 'Like what you see? Visit the ' +\n",
       "            '<a target=\"_blank\" href=https://colab.research.google.com/notebooks/data_table.ipynb>data table notebook</a>'\n",
       "            + ' to learn more about interactive tables.';\n",
       "          element.innerHTML = '';\n",
       "          dataTable['output_type'] = 'display_data';\n",
       "          await google.colab.output.renderOutput(dataTable, element);\n",
       "          const docLink = document.createElement('div');\n",
       "          docLink.innerHTML = docLinkHtml;\n",
       "          element.appendChild(docLink);\n",
       "        }\n",
       "      </script>\n",
       "    </div>\n",
       "  </div>\n",
       "  "
      ],
      "text/plain": [
       "  test_group  user_id  within_window  purchase_amount  conversion\n",
       "0    control    75210          22998      5170.864258       0.306\n",
       "1       test    75273          24427      5394.771484       0.325"
      ]
     },
     "execution_count": 18,
     "metadata": {},
     "output_type": "execute_result"
    }
   ],
   "source": [
    "#Общая проврека\n",
    "metrics = data.groupby('test_group', as_index= False).agg({'user_id':'nunique', 'within_window':'sum','purchase_amount':'mean' })\n",
    "metrics['conversion']=round(metrics['within_window']/metrics['user_id'],3)\n",
    "metrics"
   ]
  },
  {
   "cell_type": "code",
   "execution_count": 19,
   "metadata": {
    "colab": {
     "base_uri": "https://localhost:8080/",
     "height": 112
    },
    "id": "dAdU8YspbL07",
    "outputId": "56ef03a5-c163-4e9d-93fa-aff26e4c54dc"
   },
   "outputs": [
    {
     "data": {
      "text/html": [
       "\n",
       "  <div id=\"df-c2642ea9-0d56-49c0-a425-dc0fe9f80bc7\">\n",
       "    <div class=\"colab-df-container\">\n",
       "      <div>\n",
       "<style scoped>\n",
       "    .dataframe tbody tr th:only-of-type {\n",
       "        vertical-align: middle;\n",
       "    }\n",
       "\n",
       "    .dataframe tbody tr th {\n",
       "        vertical-align: top;\n",
       "    }\n",
       "\n",
       "    .dataframe thead th {\n",
       "        text-align: right;\n",
       "    }\n",
       "</style>\n",
       "<table border=\"1\" class=\"dataframe\">\n",
       "  <thead>\n",
       "    <tr style=\"text-align: right;\">\n",
       "      <th></th>\n",
       "      <th>test_group</th>\n",
       "      <th>user_id</th>\n",
       "      <th>within_window</th>\n",
       "      <th>purchase_amount</th>\n",
       "      <th>conversion</th>\n",
       "    </tr>\n",
       "  </thead>\n",
       "  <tbody>\n",
       "    <tr>\n",
       "      <th>0</th>\n",
       "      <td>control</td>\n",
       "      <td>45112</td>\n",
       "      <td>13732</td>\n",
       "      <td>5200.121582</td>\n",
       "      <td>0.304</td>\n",
       "    </tr>\n",
       "    <tr>\n",
       "      <th>1</th>\n",
       "      <td>test</td>\n",
       "      <td>60317</td>\n",
       "      <td>19659</td>\n",
       "      <td>5401.003906</td>\n",
       "      <td>0.326</td>\n",
       "    </tr>\n",
       "  </tbody>\n",
       "</table>\n",
       "</div>\n",
       "      <button class=\"colab-df-convert\" onclick=\"convertToInteractive('df-c2642ea9-0d56-49c0-a425-dc0fe9f80bc7')\"\n",
       "              title=\"Convert this dataframe to an interactive table.\"\n",
       "              style=\"display:none;\">\n",
       "        \n",
       "  <svg xmlns=\"http://www.w3.org/2000/svg\" height=\"24px\"viewBox=\"0 0 24 24\"\n",
       "       width=\"24px\">\n",
       "    <path d=\"M0 0h24v24H0V0z\" fill=\"none\"/>\n",
       "    <path d=\"M18.56 5.44l.94 2.06.94-2.06 2.06-.94-2.06-.94-.94-2.06-.94 2.06-2.06.94zm-11 1L8.5 8.5l.94-2.06 2.06-.94-2.06-.94L8.5 2.5l-.94 2.06-2.06.94zm10 10l.94 2.06.94-2.06 2.06-.94-2.06-.94-.94-2.06-.94 2.06-2.06.94z\"/><path d=\"M17.41 7.96l-1.37-1.37c-.4-.4-.92-.59-1.43-.59-.52 0-1.04.2-1.43.59L10.3 9.45l-7.72 7.72c-.78.78-.78 2.05 0 2.83L4 21.41c.39.39.9.59 1.41.59.51 0 1.02-.2 1.41-.59l7.78-7.78 2.81-2.81c.8-.78.8-2.07 0-2.86zM5.41 20L4 18.59l7.72-7.72 1.47 1.35L5.41 20z\"/>\n",
       "  </svg>\n",
       "      </button>\n",
       "      \n",
       "  <style>\n",
       "    .colab-df-container {\n",
       "      display:flex;\n",
       "      flex-wrap:wrap;\n",
       "      gap: 12px;\n",
       "    }\n",
       "\n",
       "    .colab-df-convert {\n",
       "      background-color: #E8F0FE;\n",
       "      border: none;\n",
       "      border-radius: 50%;\n",
       "      cursor: pointer;\n",
       "      display: none;\n",
       "      fill: #1967D2;\n",
       "      height: 32px;\n",
       "      padding: 0 0 0 0;\n",
       "      width: 32px;\n",
       "    }\n",
       "\n",
       "    .colab-df-convert:hover {\n",
       "      background-color: #E2EBFA;\n",
       "      box-shadow: 0px 1px 2px rgba(60, 64, 67, 0.3), 0px 1px 3px 1px rgba(60, 64, 67, 0.15);\n",
       "      fill: #174EA6;\n",
       "    }\n",
       "\n",
       "    [theme=dark] .colab-df-convert {\n",
       "      background-color: #3B4455;\n",
       "      fill: #D2E3FC;\n",
       "    }\n",
       "\n",
       "    [theme=dark] .colab-df-convert:hover {\n",
       "      background-color: #434B5C;\n",
       "      box-shadow: 0px 1px 3px 1px rgba(0, 0, 0, 0.15);\n",
       "      filter: drop-shadow(0px 1px 2px rgba(0, 0, 0, 0.3));\n",
       "      fill: #FFFFFF;\n",
       "    }\n",
       "  </style>\n",
       "\n",
       "      <script>\n",
       "        const buttonEl =\n",
       "          document.querySelector('#df-c2642ea9-0d56-49c0-a425-dc0fe9f80bc7 button.colab-df-convert');\n",
       "        buttonEl.style.display =\n",
       "          google.colab.kernel.accessAllowed ? 'block' : 'none';\n",
       "\n",
       "        async function convertToInteractive(key) {\n",
       "          const element = document.querySelector('#df-c2642ea9-0d56-49c0-a425-dc0fe9f80bc7');\n",
       "          const dataTable =\n",
       "            await google.colab.kernel.invokeFunction('convertToInteractive',\n",
       "                                                     [key], {});\n",
       "          if (!dataTable) return;\n",
       "\n",
       "          const docLinkHtml = 'Like what you see? Visit the ' +\n",
       "            '<a target=\"_blank\" href=https://colab.research.google.com/notebooks/data_table.ipynb>data table notebook</a>'\n",
       "            + ' to learn more about interactive tables.';\n",
       "          element.innerHTML = '';\n",
       "          dataTable['output_type'] = 'display_data';\n",
       "          await google.colab.output.renderOutput(dataTable, element);\n",
       "          const docLink = document.createElement('div');\n",
       "          docLink.innerHTML = docLinkHtml;\n",
       "          element.appendChild(docLink);\n",
       "        }\n",
       "      </script>\n",
       "    </div>\n",
       "  </div>\n",
       "  "
      ],
      "text/plain": [
       "  test_group  user_id  within_window  purchase_amount  conversion\n",
       "0    control    45112          13732      5200.121582       0.304\n",
       "1       test    60317          19659      5401.003906       0.326"
      ]
     },
     "execution_count": 19,
     "metadata": {},
     "output_type": "execute_result"
    }
   ],
   "source": [
    "#ПК проврека\n",
    "metrics_pc = data[data['platform']=='pc'].groupby('test_group', as_index= False).agg({'user_id':'nunique', 'within_window':'sum', 'purchase_amount':'mean'})\n",
    "metrics_pc['conversion']=round(metrics_pc['within_window']/metrics_pc['user_id'],3)\n",
    "metrics_pc"
   ]
  },
  {
   "cell_type": "code",
   "execution_count": 20,
   "metadata": {
    "colab": {
     "base_uri": "https://localhost:8080/",
     "height": 112
    },
    "id": "j1bGG9yrbL08",
    "outputId": "d1050b66-a8b2-4ad1-e80b-91a3c8300267"
   },
   "outputs": [
    {
     "data": {
      "text/html": [
       "\n",
       "  <div id=\"df-414dcd0a-70b6-4510-a12e-9e71e68eaaac\">\n",
       "    <div class=\"colab-df-container\">\n",
       "      <div>\n",
       "<style scoped>\n",
       "    .dataframe tbody tr th:only-of-type {\n",
       "        vertical-align: middle;\n",
       "    }\n",
       "\n",
       "    .dataframe tbody tr th {\n",
       "        vertical-align: top;\n",
       "    }\n",
       "\n",
       "    .dataframe thead th {\n",
       "        text-align: right;\n",
       "    }\n",
       "</style>\n",
       "<table border=\"1\" class=\"dataframe\">\n",
       "  <thead>\n",
       "    <tr style=\"text-align: right;\">\n",
       "      <th></th>\n",
       "      <th>test_group</th>\n",
       "      <th>user_id</th>\n",
       "      <th>within_window</th>\n",
       "      <th>purchase_amount</th>\n",
       "      <th>conversion</th>\n",
       "    </tr>\n",
       "  </thead>\n",
       "  <tbody>\n",
       "    <tr>\n",
       "      <th>0</th>\n",
       "      <td>control</td>\n",
       "      <td>30098</td>\n",
       "      <td>9266</td>\n",
       "      <td>5127.505371</td>\n",
       "      <td>0.308</td>\n",
       "    </tr>\n",
       "    <tr>\n",
       "      <th>1</th>\n",
       "      <td>test</td>\n",
       "      <td>14956</td>\n",
       "      <td>4768</td>\n",
       "      <td>5369.075684</td>\n",
       "      <td>0.319</td>\n",
       "    </tr>\n",
       "  </tbody>\n",
       "</table>\n",
       "</div>\n",
       "      <button class=\"colab-df-convert\" onclick=\"convertToInteractive('df-414dcd0a-70b6-4510-a12e-9e71e68eaaac')\"\n",
       "              title=\"Convert this dataframe to an interactive table.\"\n",
       "              style=\"display:none;\">\n",
       "        \n",
       "  <svg xmlns=\"http://www.w3.org/2000/svg\" height=\"24px\"viewBox=\"0 0 24 24\"\n",
       "       width=\"24px\">\n",
       "    <path d=\"M0 0h24v24H0V0z\" fill=\"none\"/>\n",
       "    <path d=\"M18.56 5.44l.94 2.06.94-2.06 2.06-.94-2.06-.94-.94-2.06-.94 2.06-2.06.94zm-11 1L8.5 8.5l.94-2.06 2.06-.94-2.06-.94L8.5 2.5l-.94 2.06-2.06.94zm10 10l.94 2.06.94-2.06 2.06-.94-2.06-.94-.94-2.06-.94 2.06-2.06.94z\"/><path d=\"M17.41 7.96l-1.37-1.37c-.4-.4-.92-.59-1.43-.59-.52 0-1.04.2-1.43.59L10.3 9.45l-7.72 7.72c-.78.78-.78 2.05 0 2.83L4 21.41c.39.39.9.59 1.41.59.51 0 1.02-.2 1.41-.59l7.78-7.78 2.81-2.81c.8-.78.8-2.07 0-2.86zM5.41 20L4 18.59l7.72-7.72 1.47 1.35L5.41 20z\"/>\n",
       "  </svg>\n",
       "      </button>\n",
       "      \n",
       "  <style>\n",
       "    .colab-df-container {\n",
       "      display:flex;\n",
       "      flex-wrap:wrap;\n",
       "      gap: 12px;\n",
       "    }\n",
       "\n",
       "    .colab-df-convert {\n",
       "      background-color: #E8F0FE;\n",
       "      border: none;\n",
       "      border-radius: 50%;\n",
       "      cursor: pointer;\n",
       "      display: none;\n",
       "      fill: #1967D2;\n",
       "      height: 32px;\n",
       "      padding: 0 0 0 0;\n",
       "      width: 32px;\n",
       "    }\n",
       "\n",
       "    .colab-df-convert:hover {\n",
       "      background-color: #E2EBFA;\n",
       "      box-shadow: 0px 1px 2px rgba(60, 64, 67, 0.3), 0px 1px 3px 1px rgba(60, 64, 67, 0.15);\n",
       "      fill: #174EA6;\n",
       "    }\n",
       "\n",
       "    [theme=dark] .colab-df-convert {\n",
       "      background-color: #3B4455;\n",
       "      fill: #D2E3FC;\n",
       "    }\n",
       "\n",
       "    [theme=dark] .colab-df-convert:hover {\n",
       "      background-color: #434B5C;\n",
       "      box-shadow: 0px 1px 3px 1px rgba(0, 0, 0, 0.15);\n",
       "      filter: drop-shadow(0px 1px 2px rgba(0, 0, 0, 0.3));\n",
       "      fill: #FFFFFF;\n",
       "    }\n",
       "  </style>\n",
       "\n",
       "      <script>\n",
       "        const buttonEl =\n",
       "          document.querySelector('#df-414dcd0a-70b6-4510-a12e-9e71e68eaaac button.colab-df-convert');\n",
       "        buttonEl.style.display =\n",
       "          google.colab.kernel.accessAllowed ? 'block' : 'none';\n",
       "\n",
       "        async function convertToInteractive(key) {\n",
       "          const element = document.querySelector('#df-414dcd0a-70b6-4510-a12e-9e71e68eaaac');\n",
       "          const dataTable =\n",
       "            await google.colab.kernel.invokeFunction('convertToInteractive',\n",
       "                                                     [key], {});\n",
       "          if (!dataTable) return;\n",
       "\n",
       "          const docLinkHtml = 'Like what you see? Visit the ' +\n",
       "            '<a target=\"_blank\" href=https://colab.research.google.com/notebooks/data_table.ipynb>data table notebook</a>'\n",
       "            + ' to learn more about interactive tables.';\n",
       "          element.innerHTML = '';\n",
       "          dataTable['output_type'] = 'display_data';\n",
       "          await google.colab.output.renderOutput(dataTable, element);\n",
       "          const docLink = document.createElement('div');\n",
       "          docLink.innerHTML = docLinkHtml;\n",
       "          element.appendChild(docLink);\n",
       "        }\n",
       "      </script>\n",
       "    </div>\n",
       "  </div>\n",
       "  "
      ],
      "text/plain": [
       "  test_group  user_id  within_window  purchase_amount  conversion\n",
       "0    control    30098           9266      5127.505371       0.308\n",
       "1       test    14956           4768      5369.075684       0.319"
      ]
     },
     "execution_count": 20,
     "metadata": {},
     "output_type": "execute_result"
    }
   ],
   "source": [
    "#Мобильные устройства проврека\n",
    "metrics_mobile = data[data['platform']=='mobile'].groupby('test_group', as_index= False).agg({'user_id':'nunique', 'within_window':'sum', 'purchase_amount':'mean'})\n",
    "metrics_mobile['conversion']=round(metrics_mobile['within_window']/metrics_mobile['user_id'],3)\n",
    "metrics_mobile"
   ]
  },
  {
   "cell_type": "code",
   "execution_count": null,
   "metadata": {
    "id": "TKaeeXLll6j3"
   },
   "outputs": [],
   "source": [
    "#proportions_ztest(metrics['within_window'],metrics['user_id'])[1]"
   ]
  },
  {
   "cell_type": "code",
   "execution_count": 22,
   "metadata": {
    "colab": {
     "base_uri": "https://localhost:8080/"
    },
    "id": "_w0kri_PbL0-",
    "outputId": "a667aeb6-6c5d-4778-f7c3-9c5aa5765096"
   },
   "outputs": [
    {
     "data": {
      "text/plain": [
       "5.321539863368111e-15"
      ]
     },
     "execution_count": 22,
     "metadata": {},
     "output_type": "execute_result"
    }
   ],
   "source": [
    "chi2stat, pval, table = proportion.proportions_chisquare(metrics['within_window'], metrics['user_id'])\n",
    "pval"
   ]
  },
  {
   "cell_type": "code",
   "execution_count": 23,
   "metadata": {
    "colab": {
     "base_uri": "https://localhost:8080/"
    },
    "id": "WZHc1CEHbL0-",
    "outputId": "2235b954-8e11-45f6-a12f-011fe6f44617"
   },
   "outputs": [
    {
     "data": {
      "text/plain": [
       "1.0436637877855105e-13"
      ]
     },
     "execution_count": 23,
     "metadata": {},
     "output_type": "execute_result"
    }
   ],
   "source": [
    "chi2stat_pc, pval_pc, table_pc = proportion.proportions_chisquare(metrics_pc['within_window'], metrics_pc['user_id'])\n",
    "pval_pc"
   ]
  },
  {
   "cell_type": "code",
   "execution_count": 24,
   "metadata": {
    "colab": {
     "base_uri": "https://localhost:8080/"
    },
    "id": "hu9CH3VFbL0_",
    "outputId": "2491fc4a-ad98-456a-dfe1-4095e642364d"
   },
   "outputs": [
    {
     "data": {
      "text/plain": [
       "0.018202784051985058"
      ]
     },
     "execution_count": 24,
     "metadata": {},
     "output_type": "execute_result"
    }
   ],
   "source": [
    "chi2stat_mobile, pval_mobile, table_mobile = proportion.proportions_chisquare(metrics_mobile['within_window'], metrics_mobile['user_id'])\n",
    "pval_mobile"
   ]
  },
  {
   "cell_type": "code",
   "execution_count": 25,
   "metadata": {
    "id": "YRT0d5F4bL0_"
   },
   "outputs": [],
   "source": [
    "#Зададим уровень значимости в 5%\n",
    "alpha=0.05"
   ]
  },
  {
   "cell_type": "code",
   "execution_count": 26,
   "metadata": {
    "colab": {
     "base_uri": "https://localhost:8080/"
    },
    "id": "8ThekGB9l6j5",
    "outputId": "8e5e1864-53ee-445d-fe87-db6582f0f79e"
   },
   "outputs": [
    {
     "name": "stdout",
     "output_type": "stream",
     "text": [
      "Отвергаем H0 и говорим о о том что есть статистическая разница в конверсиях  5.321539863368111e-15\n",
      "Отвергаем H0 и говорим о о том что есть статистическая разница в конверсиях  1.0436637877855105e-13\n",
      "Отвергаем H0 и говорим о о том что есть статистическая разница в конверсиях  0.018202784051985058\n"
     ]
    }
   ],
   "source": [
    "for pvalue in [pval,pval_pc,pval_mobile]:\n",
    "    if pvalue<alpha:\n",
    "        print('Отвергаем H0 и говорим о о том что есть статистическая разница в конверсиях ', pvalue)\n",
    "    else:\n",
    "        print('Не отвергаем H0 и говорим о о том что статистической разницы в конверсиях нет', pvalue )\n",
    "        "
   ]
  },
  {
   "cell_type": "markdown",
   "metadata": {
    "id": "jGixUQOWl6j5"
   },
   "source": [
    "***Во всех трех случаях мы отвергли 0 гипотезу, что говорит нам о том, что есть разница в конверсии во всех разрезах***"
   ]
  },
  {
   "cell_type": "markdown",
   "metadata": {
    "id": "aTrhi9zfbL1B"
   },
   "source": [
    "## Вычислим мощность теста"
   ]
  },
  {
   "cell_type": "code",
   "execution_count": 28,
   "metadata": {
    "id": "-riu6DIdbL1C"
   },
   "outputs": [],
   "source": [
    "# напиши здесь код\n",
    "chipower=smp.GofChisquarePower()"
   ]
  },
  {
   "cell_type": "markdown",
   "metadata": {
    "id": "fPvQU-50bL1D"
   },
   "source": [
    "\n",
    "$$ES = \\sqrt{(p_0 - p_1)^2/p_o}$$\n",
    "\n",
    "$p_0$ конверсию в контрольной группе, а $p_1$ — тестовой"
   ]
  },
  {
   "cell_type": "code",
   "execution_count": 29,
   "metadata": {
    "id": "oKd-pOhNbL1H"
   },
   "outputs": [],
   "source": [
    "# Формула для расчета размера эффекта для \n",
    "def chi2_effect_size(p0, p1):\n",
    "    return np.sqrt(((p0 - p1)**2 / p0))"
   ]
  },
  {
   "cell_type": "markdown",
   "metadata": {
    "id": "DNxX0FxlbL1I"
   },
   "source": [
    "###Подготовим данные для расчета:"
   ]
  },
  {
   "cell_type": "code",
   "execution_count": 30,
   "metadata": {
    "id": "3Pk5F428bL1J"
   },
   "outputs": [],
   "source": [
    "#Общий\n",
    "conversion_control=metrics[metrics['test_group']=='control']['conversion'].values[0]\n",
    "conversion_test=metrics[metrics['test_group']=='test']['conversion'].values[0]\n",
    "nobs=metrics['user_id'].min() #кол-во наблюдений"
   ]
  },
  {
   "cell_type": "code",
   "execution_count": 31,
   "metadata": {
    "id": "GvXJIApvbL1K"
   },
   "outputs": [],
   "source": [
    "#ПК\n",
    "conversion_control_pc = metrics_pc[metrics_pc['test_group']=='control']['conversion'].values[0]\n",
    "conversion_test_pc = metrics_pc[metrics_pc['test_group']=='test']['conversion'].values[0]\n",
    "nobs_pc = metrics_pc['user_id'].min() #кол-во наблюдений"
   ]
  },
  {
   "cell_type": "code",
   "execution_count": 32,
   "metadata": {
    "id": "uCdz925obL1K"
   },
   "outputs": [],
   "source": [
    "#Мобильные устройства\n",
    "conversion_control_mobile = metrics_mobile[metrics_mobile['test_group']=='control']['conversion'].values[0]\n",
    "conversion_test_mobile = metrics_mobile[metrics_mobile['test_group']=='test']['conversion'].values[0]\n",
    "nobs_mobile = metrics_mobile['user_id'].min() #кол-во наблюдений"
   ]
  },
  {
   "cell_type": "markdown",
   "metadata": {
    "id": "_IYBUKzTbL1K"
   },
   "source": [
    "###Считаем мощность:"
   ]
  },
  {
   "cell_type": "code",
   "execution_count": 33,
   "metadata": {
    "colab": {
     "base_uri": "https://localhost:8080/"
    },
    "id": "iedF3DKybL1L",
    "outputId": "655a6748-a45b-45cf-c60f-98ab71d69530"
   },
   "outputs": [
    {
     "data": {
      "text/plain": [
       "0.9452552958994492"
      ]
     },
     "execution_count": 33,
     "metadata": {},
     "output_type": "execute_result"
    }
   ],
   "source": [
    "power = chipower.solve_power(effect_size=chi2_effect_size(conversion_control, conversion_test),# разница коэффициентов конверсии\n",
    "                            nobs=nobs,# меньший размер выборки\n",
    "                            alpha=pval,# значение ошибки первого рода на наших данных\n",
    "                            power = None)# функция вернет значение, указаное как None\n",
    "power"
   ]
  },
  {
   "cell_type": "code",
   "execution_count": 35,
   "metadata": {
    "colab": {
     "base_uri": "https://localhost:8080/"
    },
    "id": "EkzdB9swbL1L",
    "outputId": "ce82544f-2606-439f-c125-675cee674436"
   },
   "outputs": [
    {
     "data": {
      "text/plain": [
       "0.8507355235487167"
      ]
     },
     "execution_count": 35,
     "metadata": {},
     "output_type": "execute_result"
    }
   ],
   "source": [
    "pc_power = chipower.solve_power(effect_size=chi2_effect_size(conversion_control_pc, conversion_test_pc),# разница коэффициентов конверсии\n",
    "                            nobs=nobs_pc,# меньший размер выборки\n",
    "                            alpha=pval_pc,# значение ошибки первого рода на наших данных\n",
    "                            power = None)# функция вернет значение, указаное как None\n",
    "pc_power"
   ]
  },
  {
   "cell_type": "code",
   "execution_count": 34,
   "metadata": {
    "colab": {
     "base_uri": "https://localhost:8080/"
    },
    "id": "N5BqF4yYbL1L",
    "outputId": "a358fb02-03db-48cf-fdda-893e0a127c3c"
   },
   "outputs": [
    {
     "data": {
      "text/plain": [
       "0.5249147964236864"
      ]
     },
     "execution_count": 34,
     "metadata": {},
     "output_type": "execute_result"
    }
   ],
   "source": [
    "mobile_power = chipower.solve_power(effect_size=chi2_effect_size(conversion_control_mobile, conversion_test_mobile),# разница коэффициентов конверсии\n",
    "                            nobs=nobs_mobile,# меньший размер выборки\n",
    "                            alpha=pval_mobile,# значение ошибки первого рода на наших данных\n",
    "                            power = None)# функция вернет значение, указаное как None\n",
    "mobile_power"
   ]
  },
  {
   "cell_type": "markdown",
   "metadata": {
    "id": "88wBk5H7PB-P"
   },
   "source": [
    "***В перых двух проверках мощность более 80% и это хорошо это у нас общий показатель и по ПК, а вот в мобильных устройствах показатель всего лишь 52%, тк. тест уже проведен и необходимо сделать выводы, опустим этот момент***"
   ]
  },
  {
   "cell_type": "code",
   "execution_count": 36,
   "metadata": {
    "colab": {
     "base_uri": "https://localhost:8080/"
    },
    "id": "iBHgcUQ-l6kA",
    "outputId": "1b5af955-d8e5-4993-c894-d342808eaa38"
   },
   "outputs": [
    {
     "name": "stdout",
     "output_type": "stream",
     "text": [
      "Необходимый размер выборки для эксперимента - 39958\n"
     ]
    }
   ],
   "source": [
    "# Посчитаем для справки необходимый размер выборки для м.у.\n",
    "power = 0.8 # хотим мощность не меньше 80%\n",
    "\n",
    "size_of_each_test_group = chipower.solve_power(effect_size = chi2_effect_size(conversion_control_mobile, conversion_test_mobile), \n",
    "                                               nobs = None, \n",
    "                                               alpha = alpha, \n",
    "                                               power = power) \n",
    "print('Необходимый размер выборки для эксперимента - {:.0f}'.format(2*size_of_each_test_group))"
   ]
  },
  {
   "cell_type": "markdown",
   "metadata": {
    "id": "lYlqrjkLbL1M"
   },
   "source": [
    "## Оценим влияние теста на средний чек"
   ]
  },
  {
   "cell_type": "markdown",
   "metadata": {
    "id": "wSyqPb76Vj69"
   },
   "source": [
    "### Подготовим данные для расчета:"
   ]
  },
  {
   "cell_type": "code",
   "execution_count": 40,
   "metadata": {
    "id": "Q4QY9KlEbL1O"
   },
   "outputs": [],
   "source": [
    "test = data[data['test_group']=='test']['purchase_amount'].dropna().values\n",
    "control = data[data['test_group']=='control']['purchase_amount'].dropna().values\n",
    "\n",
    "test_pc = data[(data['test_group']=='test') &(data['platform']=='pc') ]['purchase_amount'].dropna().values\n",
    "control_pc = data[(data['test_group']=='control')  &(data['platform']=='pc')]['purchase_amount'].dropna().values\n",
    "\n",
    "test_mobile = data[(data['test_group']=='test')&(data['platform']=='mobile')]['purchase_amount'].dropna().values\n",
    "control_mobile = data[(data['test_group']=='control')&(data['platform']=='mobile')]['purchase_amount'].dropna().values"
   ]
  },
  {
   "cell_type": "markdown",
   "metadata": {
    "id": "2kZnidOtbL1P"
   },
   "source": [
    "### Посчитаем разницу:"
   ]
  },
  {
   "cell_type": "code",
   "execution_count": 41,
   "metadata": {
    "id": "_3d_VHvpbL1P",
    "scrolled": false
   },
   "outputs": [],
   "source": [
    "boot =  bs.bootstrap_ab(test = test, ctrl = control\n",
    "                              , stat_func = bs_stats.mean #проверяем среднее\n",
    "                              , compare_func = bs_compare.difference #как мы хотим исследовать. В нашем случае — хотим взять разницу между группами\n",
    "                              , return_distribution=True) # вернем набор разниц, который функция получает в результате всех итераций"
   ]
  },
  {
   "cell_type": "code",
   "execution_count": 42,
   "metadata": {
    "id": "vfIIQjwVbL1Q"
   },
   "outputs": [],
   "source": [
    "boot_pc = bs.bootstrap_ab(test = test_pc, ctrl = control_pc\n",
    "                              , stat_func = bs_stats.mean #проверяем среднее\n",
    "                              , compare_func = bs_compare.difference #как мы хотим исследовать. В нашем случае — хотим взять разницу между группами\n",
    "                              , return_distribution=True) # вернем набор разниц, который функция получает в результате всех итераций"
   ]
  },
  {
   "cell_type": "code",
   "execution_count": 43,
   "metadata": {
    "id": "EvRqr4YmbL1R"
   },
   "outputs": [],
   "source": [
    "boot_mobile = bs.bootstrap_ab(test = test_mobile, ctrl = control_mobile\n",
    "                              , stat_func = bs_stats.mean #проверяем среднее\n",
    "                              , compare_func = bs_compare.difference #как мы хотим исследовать. В нашем случае — хотим взять разницу между группами\n",
    "                              , return_distribution=True) # вернем набор разниц, который функция получает в результате всех итераций"
   ]
  },
  {
   "cell_type": "markdown",
   "metadata": {
    "id": "48tQjFX3bL1R"
   },
   "source": [
    "### Границы доверительного интервала:"
   ]
  },
  {
   "cell_type": "code",
   "execution_count": 45,
   "metadata": {
    "id": "gCCAbRnfbL1R"
   },
   "outputs": [],
   "source": [
    "borders = np.percentile(boot, [2.5, 97.5]) # считаем перцентили\n",
    "borders_pc = np.percentile(boot_pc, [2.5, 97.5]) # считаем перцентили\n",
    "borders_mobile = np.percentile(boot_mobile, [2.5, 97.5]) # считаем перцентили"
   ]
  },
  {
   "cell_type": "markdown",
   "metadata": {
    "id": "VX-vFjvCbL1S"
   },
   "source": [
    "### Построим распределение разниц среднего чека:"
   ]
  },
  {
   "cell_type": "code",
   "execution_count": 48,
   "metadata": {
    "colab": {
     "base_uri": "https://localhost:8080/",
     "height": 1000
    },
    "id": "yrzEZotTbL1S",
    "outputId": "54b5209d-9037-40d5-f9c9-709de97c784a"
   },
   "outputs": [
    {
     "name": "stderr",
     "output_type": "stream",
     "text": [
      "/usr/local/lib/python3.7/dist-packages/seaborn/distributions.py:2619: FutureWarning: `distplot` is a deprecated function and will be removed in a future version. Please adapt your code to use either `displot` (a figure-level function with similar flexibility) or `histplot` (an axes-level function for histograms).\n",
      "  warnings.warn(msg, FutureWarning)\n"
     ]
    },
    {
     "data": {
      "image/png": "[encoded data removed]",
      "text/plain": [
       "<Figure size 432x288 with 1 Axes>"
      ]
     },
     "metadata": {
      "needs_background": "light"
     },
     "output_type": "display_data"
    },
    {
     "name": "stderr",
     "output_type": "stream",
     "text": [
      "/usr/local/lib/python3.7/dist-packages/seaborn/distributions.py:2619: FutureWarning: `distplot` is a deprecated function and will be removed in a future version. Please adapt your code to use either `displot` (a figure-level function with similar flexibility) or `histplot` (an axes-level function for histograms).\n",
      "  warnings.warn(msg, FutureWarning)\n"
     ]
    },
    {
     "data": {
      "image/png": "[encoded data removed]",
      "text/plain": [
       "<Figure size 864x432 with 1 Axes>"
      ]
     },
     "metadata": {
      "needs_background": "light"
     },
     "output_type": "display_data"
    },
    {
     "name": "stderr",
     "output_type": "stream",
     "text": [
      "/usr/local/lib/python3.7/dist-packages/seaborn/distributions.py:2619: FutureWarning: `distplot` is a deprecated function and will be removed in a future version. Please adapt your code to use either `displot` (a figure-level function with similar flexibility) or `histplot` (an axes-level function for histograms).\n",
      "  warnings.warn(msg, FutureWarning)\n"
     ]
    },
    {
     "data": {
      "image/png": "[encoded data removed]",
      "text/plain": [
       "<Figure size 864x432 with 1 Axes>"
      ]
     },
     "metadata": {
      "needs_background": "light"
     },
     "output_type": "display_data"
    }
   ],
   "source": [
    "for i,k in zip([boot, boot_pc, boot_mobile],[borders, borders_pc, borders_mobile]):\n",
    "  sns.distplot(i) # функция построения распределения\n",
    "  plt.title('Bootstrap-распределение разниц среднего чека', )\n",
    "  plt.rcParams[\"figure.figsize\"] = (12, 6)\n",
    "  plt.vlines(0, # отрисуем линию на уровне ноля\n",
    "           ymin = 0, \n",
    "           ymax = 0.003, \n",
    "           linestyles= '--', \n",
    "           colors = 'red')\n",
    "  plt.vlines(k, # отрисуем перцентили\n",
    "           ymin = 0, \n",
    "           ymax = 0.003, \n",
    "           linestyles= '--', \n",
    "           colors = 'grey', \n",
    "           label = '95%-доверительный интервал')\n",
    "  plt.legend()\n",
    "  plt.show()"
   ]
  },
  {
   "cell_type": "markdown",
   "metadata": {
    "id": "QUZXdZ4X06G6"
   },
   "source": [
    "***Во всех трех случаях мы отвергли 0 гипотезу, что говорит нам о том, что есть разница в среднем***"
   ]
  },
  {
   "cell_type": "code",
   "execution_count": 62,
   "metadata": {
    "colab": {
     "base_uri": "https://localhost:8080/",
     "height": 112
    },
    "id": "14IPams_Wz5q",
    "outputId": "c7637996-0d9c-47a4-ecee-ae582472958d"
   },
   "outputs": [
    {
     "data": {
      "text/html": [
       "\n",
       "  <div id=\"df-39fd5580-888c-45ac-b38c-a106bea9790d\">\n",
       "    <div class=\"colab-df-container\">\n",
       "      <div>\n",
       "<style scoped>\n",
       "    .dataframe tbody tr th:only-of-type {\n",
       "        vertical-align: middle;\n",
       "    }\n",
       "\n",
       "    .dataframe tbody tr th {\n",
       "        vertical-align: top;\n",
       "    }\n",
       "\n",
       "    .dataframe thead th {\n",
       "        text-align: right;\n",
       "    }\n",
       "</style>\n",
       "<table border=\"1\" class=\"dataframe\">\n",
       "  <thead>\n",
       "    <tr style=\"text-align: right;\">\n",
       "      <th></th>\n",
       "      <th>test_group</th>\n",
       "      <th>user_id</th>\n",
       "      <th>within_window</th>\n",
       "      <th>purchase_amount</th>\n",
       "      <th>conversion</th>\n",
       "    </tr>\n",
       "  </thead>\n",
       "  <tbody>\n",
       "    <tr>\n",
       "      <th>0</th>\n",
       "      <td>control</td>\n",
       "      <td>75210</td>\n",
       "      <td>22998</td>\n",
       "      <td>5170.864258</td>\n",
       "      <td>0.306</td>\n",
       "    </tr>\n",
       "    <tr>\n",
       "      <th>1</th>\n",
       "      <td>test</td>\n",
       "      <td>75273</td>\n",
       "      <td>24427</td>\n",
       "      <td>5394.771484</td>\n",
       "      <td>0.325</td>\n",
       "    </tr>\n",
       "  </tbody>\n",
       "</table>\n",
       "</div>\n",
       "      <button class=\"colab-df-convert\" onclick=\"convertToInteractive('df-39fd5580-888c-45ac-b38c-a106bea9790d')\"\n",
       "              title=\"Convert this dataframe to an interactive table.\"\n",
       "              style=\"display:none;\">\n",
       "        \n",
       "  <svg xmlns=\"http://www.w3.org/2000/svg\" height=\"24px\"viewBox=\"0 0 24 24\"\n",
       "       width=\"24px\">\n",
       "    <path d=\"M0 0h24v24H0V0z\" fill=\"none\"/>\n",
       "    <path d=\"M18.56 5.44l.94 2.06.94-2.06 2.06-.94-2.06-.94-.94-2.06-.94 2.06-2.06.94zm-11 1L8.5 8.5l.94-2.06 2.06-.94-2.06-.94L8.5 2.5l-.94 2.06-2.06.94zm10 10l.94 2.06.94-2.06 2.06-.94-2.06-.94-.94-2.06-.94 2.06-2.06.94z\"/><path d=\"M17.41 7.96l-1.37-1.37c-.4-.4-.92-.59-1.43-.59-.52 0-1.04.2-1.43.59L10.3 9.45l-7.72 7.72c-.78.78-.78 2.05 0 2.83L4 21.41c.39.39.9.59 1.41.59.51 0 1.02-.2 1.41-.59l7.78-7.78 2.81-2.81c.8-.78.8-2.07 0-2.86zM5.41 20L4 18.59l7.72-7.72 1.47 1.35L5.41 20z\"/>\n",
       "  </svg>\n",
       "      </button>\n",
       "      \n",
       "  <style>\n",
       "    .colab-df-container {\n",
       "      display:flex;\n",
       "      flex-wrap:wrap;\n",
       "      gap: 12px;\n",
       "    }\n",
       "\n",
       "    .colab-df-convert {\n",
       "      background-color: #E8F0FE;\n",
       "      border: none;\n",
       "      border-radius: 50%;\n",
       "      cursor: pointer;\n",
       "      display: none;\n",
       "      fill: #1967D2;\n",
       "      height: 32px;\n",
       "      padding: 0 0 0 0;\n",
       "      width: 32px;\n",
       "    }\n",
       "\n",
       "    .colab-df-convert:hover {\n",
       "      background-color: #E2EBFA;\n",
       "      box-shadow: 0px 1px 2px rgba(60, 64, 67, 0.3), 0px 1px 3px 1px rgba(60, 64, 67, 0.15);\n",
       "      fill: #174EA6;\n",
       "    }\n",
       "\n",
       "    [theme=dark] .colab-df-convert {\n",
       "      background-color: #3B4455;\n",
       "      fill: #D2E3FC;\n",
       "    }\n",
       "\n",
       "    [theme=dark] .colab-df-convert:hover {\n",
       "      background-color: #434B5C;\n",
       "      box-shadow: 0px 1px 3px 1px rgba(0, 0, 0, 0.15);\n",
       "      filter: drop-shadow(0px 1px 2px rgba(0, 0, 0, 0.3));\n",
       "      fill: #FFFFFF;\n",
       "    }\n",
       "  </style>\n",
       "\n",
       "      <script>\n",
       "        const buttonEl =\n",
       "          document.querySelector('#df-39fd5580-888c-45ac-b38c-a106bea9790d button.colab-df-convert');\n",
       "        buttonEl.style.display =\n",
       "          google.colab.kernel.accessAllowed ? 'block' : 'none';\n",
       "\n",
       "        async function convertToInteractive(key) {\n",
       "          const element = document.querySelector('#df-39fd5580-888c-45ac-b38c-a106bea9790d');\n",
       "          const dataTable =\n",
       "            await google.colab.kernel.invokeFunction('convertToInteractive',\n",
       "                                                     [key], {});\n",
       "          if (!dataTable) return;\n",
       "\n",
       "          const docLinkHtml = 'Like what you see? Visit the ' +\n",
       "            '<a target=\"_blank\" href=https://colab.research.google.com/notebooks/data_table.ipynb>data table notebook</a>'\n",
       "            + ' to learn more about interactive tables.';\n",
       "          element.innerHTML = '';\n",
       "          dataTable['output_type'] = 'display_data';\n",
       "          await google.colab.output.renderOutput(dataTable, element);\n",
       "          const docLink = document.createElement('div');\n",
       "          docLink.innerHTML = docLinkHtml;\n",
       "          element.appendChild(docLink);\n",
       "        }\n",
       "      </script>\n",
       "    </div>\n",
       "  </div>\n",
       "  "
      ],
      "text/plain": [
       "  test_group  user_id  within_window  purchase_amount  conversion\n",
       "0    control    75210          22998      5170.864258       0.306\n",
       "1       test    75273          24427      5394.771484       0.325"
      ]
     },
     "execution_count": 62,
     "metadata": {},
     "output_type": "execute_result"
    }
   ],
   "source": [
    "metrics"
   ]
  },
  {
   "cell_type": "code",
   "execution_count": 74,
   "metadata": {
    "colab": {
     "base_uri": "https://localhost:8080/"
    },
    "id": "BeRLMu64XS8k",
    "outputId": "30b8c4a4-a3a4-48b0-8852-6f1379a7f679"
   },
   "outputs": [
    {
     "name": "stdout",
     "output_type": "stream",
     "text": [
      "Увеличение среднего чека до 104.33 %\n",
      "Увеличение конверсии до 106.21 %\n"
     ]
    }
   ],
   "source": [
    "print('Увеличение среднего чека до', round(metrics[metrics['test_group']=='test']['purchase_amount'].values[0]/metrics[metrics['test_group']=='control']['purchase_amount'].values[0]*100,2),'%')\n",
    "print('Увеличение конверсии до', round(metrics[metrics['test_group']=='test']['conversion'].values[0]/metrics[metrics['test_group']=='control']['conversion'].values[0]*100,2),'%')"
   ]
  },
  {
   "cell_type": "markdown",
   "metadata": {
    "id": "feYlEGx_bL1S"
   },
   "source": [
    "## Вывод\n",
    "Считаю тест оправдал свои ожидания, мы достигли статистически значимую разницу в среднем чеке и конверсиию\n",
    "- средний чек увеличился на 4% от исходных показателей\n",
    "- конверсия увеличилась на 6% от исходных показателей\n",
    "\n",
    "*** Можно выкатывать нововведения на всех пользователей, результаты соответсвуют изначальным требованиям о том что, конверсия должна увеличится а средний чек как минимум не уменьшиьтся ***"
   ]
  }
 ],
 "metadata": {
  "colab": {
   "collapsed_sections": [
    "feYlEGx_bL1S"
   ],
   "name": "A-B тест нововедений на сайте.ipynb",
   "provenance": []
  },
  "hide_input": false,
  "kernelspec": {
   "display_name": "Python 3",
   "language": "python",
   "name": "python3"
  },
  "language_info": {
   "codemirror_mode": {
    "name": "ipython",
    "version": 3
   },
   "file_extension": ".py",
   "mimetype": "text/x-python",
   "name": "python",
   "nbconvert_exporter": "python",
   "pygments_lexer": "ipython3",
   "version": "3.8.2"
  },
  "toc": {
   "base_numbering": 1,
   "nav_menu": {},
   "number_sections": true,
   "sideBar": true,
   "skip_h1_title": false,
   "title_cell": "Оглавление",
   "title_sidebar": "Contents",
   "toc_cell": true,
   "toc_position": {},
   "toc_section_display": true,
   "toc_window_display": true
  }
 },
 "nbformat": 4,
 "nbformat_minor": 1
}
